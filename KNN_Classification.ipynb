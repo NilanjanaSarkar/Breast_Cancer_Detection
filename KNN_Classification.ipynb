{
  "nbformat": 4,
  "nbformat_minor": 0,
  "metadata": {
    "colab": {
      "provenance": []
    },
    "kernelspec": {
      "name": "python3",
      "display_name": "Python 3"
    },
    "language_info": {
      "name": "python"
    }
  },
  "cells": [
    {
      "cell_type": "markdown",
      "source": [
        "# KNN Algorithm Classification\n",
        "\n",
        "The k-nearest neighbors algorithm, also known as KNN or k-NN, is a non-parametric, supervised learning classifier, which uses proximity to make classifications or predictions about the grouping of an individual data point."
      ],
      "metadata": {
        "id": "l7_6BtmZokKE"
      }
    },
    {
      "cell_type": "markdown",
      "source": [
        "- First we will import the libraries."
      ],
      "metadata": {
        "id": "wGdmRqgCvk5M"
      }
    },
    {
      "cell_type": "code",
      "source": [
        "import numpy as np\n",
        "import matplotlib.pyplot as plt\n",
        "import pandas as pd"
      ],
      "metadata": {
        "id": "gcM1PX5lp5M3"
      },
      "execution_count": 2,
      "outputs": []
    },
    {
      "cell_type": "markdown",
      "source": [
        "- Now will import and read the database."
      ],
      "metadata": {
        "id": "yYWf_hfMwBm2"
      }
    },
    {
      "cell_type": "code",
      "source": [
        "data = pd.read_excel('breastcancerreport.xlsx')\n",
        "a = data.iloc[:, :-1].values\n",
        "b = data.iloc[:, -1].values"
      ],
      "metadata": {
        "id": "rSloP6kiwHTI"
      },
      "execution_count": 4,
      "outputs": []
    },
    {
      "cell_type": "code",
      "source": [
        "print(a)"
      ],
      "metadata": {
        "id": "JK0F8GT8vrVv"
      },
      "execution_count": null,
      "outputs": []
    },
    {
      "cell_type": "code",
      "source": [
        "print(b)"
      ],
      "metadata": {
        "id": "M9HZiaGVvrkx"
      },
      "execution_count": null,
      "outputs": []
    },
    {
      "cell_type": "markdown",
      "source": [
        "- Now we are going to split the following data into training and test set."
      ],
      "metadata": {
        "id": "8Kp5pnzAxgtL"
      }
    },
    {
      "cell_type": "code",
      "source": [
        "from sklearn.model_selection import train_test_split\n",
        "a_train, a_test, b_train, b_test = train_test_split(a, b, test_size = 0.2, random_state = 42)"
      ],
      "metadata": {
        "id": "_uCKv6eRwZp3"
      },
      "execution_count": 9,
      "outputs": []
    },
    {
      "cell_type": "code",
      "source": [
        "print(a_train)"
      ],
      "metadata": {
        "id": "S1NJdJTpwc6v"
      },
      "execution_count": null,
      "outputs": []
    },
    {
      "cell_type": "code",
      "source": [
        "print(a_test)"
      ],
      "metadata": {
        "id": "Gh09W9FuwhDd"
      },
      "execution_count": null,
      "outputs": []
    },
    {
      "cell_type": "code",
      "source": [
        "print(b_train)"
      ],
      "metadata": {
        "id": "5E4O0ZZtwpGH"
      },
      "execution_count": null,
      "outputs": []
    },
    {
      "cell_type": "code",
      "source": [
        "print(b_test)"
      ],
      "metadata": {
        "id": "UfyhHKbXwsSG"
      },
      "execution_count": null,
      "outputs": []
    },
    {
      "cell_type": "markdown",
      "source": [
        "- Now we will apply feature Scaling."
      ],
      "metadata": {
        "id": "GoySa5vLzLNo"
      }
    },
    {
      "cell_type": "code",
      "source": [
        "from sklearn.preprocessing import StandardScaler\n",
        "sc = StandardScaler()\n",
        "a_train = sc.fit_transform(a_train)\n",
        "a_test = sc.transform(a_test)"
      ],
      "metadata": {
        "id": "c4eSMoLB0Im7"
      },
      "execution_count": 15,
      "outputs": []
    },
    {
      "cell_type": "code",
      "source": [
        "print(a_train)"
      ],
      "metadata": {
        "id": "sHR7yk6wGkYC"
      },
      "execution_count": null,
      "outputs": []
    },
    {
      "cell_type": "code",
      "source": [
        "print(a_test)"
      ],
      "metadata": {
        "id": "oKzT3cHrGoNV"
      },
      "execution_count": null,
      "outputs": []
    },
    {
      "cell_type": "markdown",
      "source": [
        "- now we will apply KNN algorithm classification on the training set."
      ],
      "metadata": {
        "id": "C_6x0tOA16FH"
      }
    },
    {
      "cell_type": "code",
      "source": [
        "from sklearn.neighbors import KNeighborsClassifier\n",
        "knn = KNeighborsClassifier(n_neighbors=7)\n",
        "knn.fit(a_train, b_train)"
      ],
      "metadata": {
        "id": "ENvutPtMG6Cu"
      },
      "execution_count": null,
      "outputs": []
    },
    {
      "cell_type": "code",
      "source": [
        "print(knn.predict(a_test))"
      ],
      "metadata": {
        "id": "uO64YGzZHlNI"
      },
      "execution_count": null,
      "outputs": []
    },
    {
      "cell_type": "markdown",
      "source": [
        "- And at last we would apply the confusion matrix to find the its accuracy."
      ],
      "metadata": {
        "id": "1v4jjaDyHyn2"
      }
    },
    {
      "cell_type": "code",
      "source": [
        "from sklearn.metrics import confusion_matrix, accuracy_score\n",
        "b_pred = knn.predict(a_test)\n",
        "cm = confusion_matrix(b_test, b_pred)\n",
        "print(cm)\n",
        "accuracy_score(b_test, b_pred)"
      ],
      "metadata": {
        "colab": {
          "base_uri": "https://localhost:8080/"
        },
        "id": "fZx7YtoUH_t1",
        "outputId": "bb47cb48-7d0b-44ca-92d7-017738a87e03"
      },
      "execution_count": 22,
      "outputs": [
        {
          "output_type": "stream",
          "name": "stdout",
          "text": [
            "[[68  3]\n",
            " [ 3 40]]\n"
          ]
        },
        {
          "output_type": "execute_result",
          "data": {
            "text/plain": [
              "0.9473684210526315"
            ]
          },
          "metadata": {},
          "execution_count": 22
        }
      ]
    }
  ]
}