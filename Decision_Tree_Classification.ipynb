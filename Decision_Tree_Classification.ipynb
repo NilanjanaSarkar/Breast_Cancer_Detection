{
  "nbformat": 4,
  "nbformat_minor": 0,
  "metadata": {
    "colab": {
      "provenance": []
    },
    "kernelspec": {
      "name": "python3",
      "display_name": "Python 3"
    },
    "language_info": {
      "name": "python"
    }
  },
  "cells": [
    {
      "cell_type": "markdown",
      "source": [
        "# Breast Cancer Detection using Decision Tree Classification\n",
        "- A decision tree is a non-parametric supervised learning algorithm, which is utilized for both classification and regression tasks. It has a hierarchical, tree structure, which consists of a root node, branches, internal nodes and leaf nodes."
      ],
      "metadata": {
        "id": "4sGGGtO9LEVm"
      }
    },
    {
      "cell_type": "markdown",
      "source": [
        "- Importing Libraries"
      ],
      "metadata": {
        "id": "QOhp2LyNLZdP"
      }
    },
    {
      "cell_type": "code",
      "source": [
        "import numpy as mp\n",
        "import matplotlib.pyplot as plt\n",
        "import pandas as pd"
      ],
      "metadata": {
        "id": "lGBkG884Ld1l"
      },
      "execution_count": 1,
      "outputs": []
    },
    {
      "cell_type": "markdown",
      "source": [
        "- import the database and read it"
      ],
      "metadata": {
        "id": "SuIgwf3cL1fM"
      }
    },
    {
      "cell_type": "code",
      "source": [
        "data = pd.read_excel('breastcancerreport.xlsx')\n",
        "a = data.iloc[:, :-1].values\n",
        "b = data.iloc[:, -1].values"
      ],
      "metadata": {
        "id": "Oj8YkyCXL5u9"
      },
      "execution_count": 2,
      "outputs": []
    },
    {
      "cell_type": "code",
      "source": [
        "print(a)"
      ],
      "metadata": {
        "id": "gI7omJL4MVvF"
      },
      "execution_count": null,
      "outputs": []
    },
    {
      "cell_type": "code",
      "source": [
        "print(b)"
      ],
      "metadata": {
        "id": "ly-_OXhdMYtd"
      },
      "execution_count": null,
      "outputs": []
    },
    {
      "cell_type": "markdown",
      "source": [
        "- Now we are going to split the following data into training and test set."
      ],
      "metadata": {
        "id": "7AbKxvUeMeo1"
      }
    },
    {
      "cell_type": "code",
      "source": [
        "from sklearn.model_selection import train_test_split\n",
        "a_train, a_test, b_train, b_test = train_test_split(a, b, test_size = 0.3, random_state = 1)"
      ],
      "metadata": {
        "id": "OZIF6D9NMmXn"
      },
      "execution_count": 5,
      "outputs": []
    },
    {
      "cell_type": "code",
      "source": [
        "print(a_train)"
      ],
      "metadata": {
        "id": "lmpCb8pSM5Vu"
      },
      "execution_count": null,
      "outputs": []
    },
    {
      "cell_type": "code",
      "source": [
        "print(a_test)"
      ],
      "metadata": {
        "id": "0vc97wknM5gw"
      },
      "execution_count": null,
      "outputs": []
    },
    {
      "cell_type": "code",
      "source": [
        "print(b_train)"
      ],
      "metadata": {
        "id": "AF6Ty__HM5qh"
      },
      "execution_count": null,
      "outputs": []
    },
    {
      "cell_type": "code",
      "source": [
        "print(b_test)"
      ],
      "metadata": {
        "id": "NOoxG_y1M510"
      },
      "execution_count": null,
      "outputs": []
    },
    {
      "cell_type": "markdown",
      "source": [
        "- Now we will apply feature Scaling."
      ],
      "metadata": {
        "id": "g7z3jjjcNPF0"
      }
    },
    {
      "cell_type": "code",
      "source": [
        "from sklearn.preprocessing import StandardScaler\n",
        "sc = StandardScaler()\n",
        "a_train = sc.fit_transform(a_train)\n",
        "a_test = sc.transform(a_test)"
      ],
      "metadata": {
        "id": "SeLnea9qNVOo"
      },
      "execution_count": 10,
      "outputs": []
    },
    {
      "cell_type": "code",
      "source": [
        "print(a_train)"
      ],
      "metadata": {
        "id": "bt6Q6_vqNbAu"
      },
      "execution_count": null,
      "outputs": []
    },
    {
      "cell_type": "code",
      "source": [
        "print(a_test)"
      ],
      "metadata": {
        "id": "niJRYjPHNeXK"
      },
      "execution_count": null,
      "outputs": []
    },
    {
      "cell_type": "markdown",
      "source": [
        "- now we will apply Decision Tree classification on the training set."
      ],
      "metadata": {
        "id": "Me1jhm74Nj9H"
      }
    },
    {
      "cell_type": "code",
      "source": [
        "from sklearn.tree import DecisionTreeClassifier\n",
        "clf = DecisionTreeClassifier()\n",
        "clf = clf.fit(a_train,b_train)\n",
        "b_pred = clf.predict(a_test)"
      ],
      "metadata": {
        "id": "L9bFNlMxNuCX"
      },
      "execution_count": 13,
      "outputs": []
    },
    {
      "cell_type": "code",
      "source": [
        "print(clf.predict(a_test))"
      ],
      "metadata": {
        "id": "hhUHh-WuOTpl"
      },
      "execution_count": null,
      "outputs": []
    },
    {
      "cell_type": "markdown",
      "source": [
        "- And at last we would apply the confusion matrix to find the its accuracy."
      ],
      "metadata": {
        "id": "om9WL5O8OkYI"
      }
    },
    {
      "cell_type": "code",
      "source": [
        "from sklearn.metrics import confusion_matrix, accuracy_score\n",
        "b_pred = clf.predict(a_test)\n",
        "cm = confusion_matrix(b_test, b_pred)\n",
        "print(cm)\n",
        "accuracy_score(b_test, b_pred)"
      ],
      "metadata": {
        "colab": {
          "base_uri": "https://localhost:8080/"
        },
        "id": "MhJmhE0zOk1m",
        "outputId": "9e2f9a2f-b144-4d55-c870-2fffd802a52f"
      },
      "execution_count": 15,
      "outputs": [
        {
          "output_type": "stream",
          "name": "stdout",
          "text": [
            "[[105   3]\n",
            " [  8  55]]\n"
          ]
        },
        {
          "output_type": "execute_result",
          "data": {
            "text/plain": [
              "0.935672514619883"
            ]
          },
          "metadata": {},
          "execution_count": 15
        }
      ]
    }
  ]
}