{
  "nbformat": 4,
  "nbformat_minor": 0,
  "metadata": {
    "colab": {
      "provenance": []
    },
    "kernelspec": {
      "name": "python3",
      "display_name": "Python 3"
    },
    "language_info": {
      "name": "python"
    }
  },
  "cells": [
    {
      "cell_type": "markdown",
      "source": [
        "# Breast Cancer Detection using Logistic Regression Classification\n",
        "- Logistic regression is a supervised machine learning algorithm mainly used for classification tasks where the goal is to predict the probability that an instance of belonging to a given class or not. It is a kind of statistical algorithm, which analyze the relationship between a set of independent variables and the dependent binary variables. It is a powerful tool for decision-making. For example email spam or not."
      ],
      "metadata": {
        "id": "n4wB9M-rPOt9"
      }
    },
    {
      "cell_type": "markdown",
      "source": [
        "- import the libraries"
      ],
      "metadata": {
        "id": "Gai5zA4y-0Zz"
      }
    },
    {
      "cell_type": "code",
      "source": [
        "import numpy as np\n",
        "import matplotlib.pyplot as plt\n",
        "import pandas as pd"
      ],
      "metadata": {
        "id": "7WJ1JlJC-3WG"
      },
      "execution_count": 1,
      "outputs": []
    },
    {
      "cell_type": "markdown",
      "source": [
        "- import the data and read it."
      ],
      "metadata": {
        "id": "1L7owoJdGkoG"
      }
    },
    {
      "cell_type": "code",
      "source": [
        "data = pd.read_excel('breastcancerreport.xlsx')\n",
        "a = data.iloc[:, :-1].values\n",
        "b = data.iloc[:, -1].values"
      ],
      "metadata": {
        "id": "ONMO_OthGq9-"
      },
      "execution_count": 2,
      "outputs": []
    },
    {
      "cell_type": "code",
      "source": [
        "print(a)"
      ],
      "metadata": {
        "id": "2qsZf161HNgH"
      },
      "execution_count": null,
      "outputs": []
    },
    {
      "cell_type": "code",
      "source": [
        "print(b)"
      ],
      "metadata": {
        "id": "vnM3gTAsHQic"
      },
      "execution_count": null,
      "outputs": []
    },
    {
      "cell_type": "markdown",
      "source": [
        "- Splitting data into training & test sets."
      ],
      "metadata": {
        "id": "pjjzbDtbHT7d"
      }
    },
    {
      "cell_type": "code",
      "source": [
        "from sklearn.model_selection import train_test_split\n",
        "a_train, a_test, b_train, b_test = train_test_split(a, b, test_size=0.3, random_state=0)"
      ],
      "metadata": {
        "id": "RVpJJJZoHqPc"
      },
      "execution_count": 5,
      "outputs": []
    },
    {
      "cell_type": "code",
      "source": [
        "print(a_train)"
      ],
      "metadata": {
        "id": "8O1kgAL6IJSe"
      },
      "execution_count": null,
      "outputs": []
    },
    {
      "cell_type": "code",
      "source": [
        "print(a_test)"
      ],
      "metadata": {
        "id": "2Ryuss8yIJak"
      },
      "execution_count": null,
      "outputs": []
    },
    {
      "cell_type": "code",
      "source": [
        "print(b_train)"
      ],
      "metadata": {
        "id": "2Mc3FF0nIJk4"
      },
      "execution_count": null,
      "outputs": []
    },
    {
      "cell_type": "code",
      "source": [
        "print(b_test)"
      ],
      "metadata": {
        "id": "3KALchfYIJ2_"
      },
      "execution_count": null,
      "outputs": []
    },
    {
      "cell_type": "markdown",
      "source": [
        "- Apply Scaling in it."
      ],
      "metadata": {
        "id": "fEbuLF07IZWG"
      }
    },
    {
      "cell_type": "code",
      "source": [
        "from sklearn.preprocessing import StandardScaler\n",
        "sc = StandardScaler()\n",
        "a_train = sc.fit_transform(a_train)\n",
        "a_test = sc.transform(a_test)"
      ],
      "metadata": {
        "id": "he1CNuntIrKf"
      },
      "execution_count": 10,
      "outputs": []
    },
    {
      "cell_type": "code",
      "source": [
        "print(a_test)"
      ],
      "metadata": {
        "id": "iC9u74J9JR16"
      },
      "execution_count": null,
      "outputs": []
    },
    {
      "cell_type": "code",
      "source": [
        "print(a_train)"
      ],
      "metadata": {
        "id": "Z71E-jDgJWIk"
      },
      "execution_count": null,
      "outputs": []
    },
    {
      "cell_type": "markdown",
      "source": [
        "- Adding Logistic Regression Classification in this code."
      ],
      "metadata": {
        "id": "dU29FDkXIppO"
      }
    },
    {
      "cell_type": "code",
      "source": [
        "from sklearn.linear_model import LogisticRegression\n",
        "classifier = LogisticRegression(random_state=0)\n",
        "classifier.fit(a_train, b_train)"
      ],
      "metadata": {
        "id": "Zz0Ju-NJIfw1"
      },
      "execution_count": null,
      "outputs": []
    },
    {
      "cell_type": "code",
      "source": [
        "print(a_train)"
      ],
      "metadata": {
        "id": "SM9xFK8QJ_2X"
      },
      "execution_count": null,
      "outputs": []
    },
    {
      "cell_type": "markdown",
      "source": [
        "- now we will apply confusion matrix to find its accuracy."
      ],
      "metadata": {
        "id": "IUzFXoXGKDuk"
      }
    },
    {
      "cell_type": "code",
      "source": [
        "from sklearn.metrics import confusion_matrix, accuracy_score\n",
        "b_pred = classifier.predict(a_test)\n",
        "cm = confusion_matrix(b_test, b_pred)\n",
        "print(cm)\n",
        "accuracy_score(b_test, b_pred)"
      ],
      "metadata": {
        "colab": {
          "base_uri": "https://localhost:8080/"
        },
        "id": "9kMkiJJjKKfO",
        "outputId": "bd7d821f-359d-47e9-e646-7319c62206f0"
      },
      "execution_count": 16,
      "outputs": [
        {
          "output_type": "stream",
          "name": "stdout",
          "text": [
            "[[105   3]\n",
            " [  3  60]]\n"
          ]
        },
        {
          "output_type": "execute_result",
          "data": {
            "text/plain": [
              "0.9649122807017544"
            ]
          },
          "metadata": {},
          "execution_count": 16
        }
      ]
    }
  ]
}